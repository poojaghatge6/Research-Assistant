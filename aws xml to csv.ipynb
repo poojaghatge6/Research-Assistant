{
 "cells": [
  {
   "cell_type": "code",
   "execution_count": 103,
   "metadata": {},
   "outputs": [
    {
     "name": "stdout",
     "output_type": "stream",
     "text": [
      "368.xml\n",
      "405.xml\n",
      "446.xml\n",
      "459.xml\n",
      "509.xml\n",
      "51.xml\n",
      "680.xml\n",
      "714.xml\n"
     ]
    }
   ],
   "source": [
    "import xmltodict\n",
    "import json\n",
    "import pandas as pd\n",
    "import csv\n",
    "import sys\n",
    "import os\n",
    "\n",
    "with os.scandir(os.getcwd()+'/input') as it:\n",
    "    for entry in it:\n",
    "        if not entry.name.startswith('.') and entry.is_file():\n",
    "            f = open(entry.name,'r')\n",
    "            str = f.read()\n",
    "            dictionary = xmltodict.parse(str)\n",
    "            r=json.dumps(dictionary)\n",
    "            df = pd.DataFrame(dictionary)\n",
    "            try:\n",
    "                df2=df[\"aws:TrafficHistoryResponse\"][\"aws:Response\"][\"aws:TrafficHistoryResult\"][\"aws:Alexa\"][\"aws:TrafficHistory\"][\"aws:HistoricalData\"][\"aws:Data\"]\n",
    "                df3=df[\"aws:TrafficHistoryResponse\"][\"aws:Response\"][\"aws:TrafficHistoryResult\"][\"aws:Alexa\"][\"aws:Request\"][\"aws:Arguments\"][\"aws:Argument\"]\n",
    "\n",
    "                r3=json.dumps(df3)\n",
    "                r2=json.dumps(df2)\n",
    "\n",
    "                df2 = pd.read_json(r2)\n",
    "                df3 = pd.read_json(r3)\n",
    "\n",
    "\n",
    "                df1=pd.concat([df3, df2],axis=1)\n",
    "\n",
    "                df1.to_csv('output/'+entry.name+'.csv')\n",
    "                f.close()\n",
    "            except KeyError:\n",
    "                print(entry.name)\n",
    "            except TypeError:\n",
    "                print(entry.name)"
   ]
  }
 ],
 "metadata": {
  "kernelspec": {
   "display_name": "Python 3",
   "language": "python",
   "name": "python3"
  },
  "language_info": {
   "codemirror_mode": {
    "name": "ipython",
    "version": 3
   },
   "file_extension": ".py",
   "mimetype": "text/x-python",
   "name": "python",
   "nbconvert_exporter": "python",
   "pygments_lexer": "ipython3",
   "version": "3.6.3"
  }
 },
 "nbformat": 4,
 "nbformat_minor": 2
}
