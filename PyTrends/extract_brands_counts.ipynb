{
 "cells": [
  {
   "cell_type": "code",
   "execution_count": 23,
   "metadata": {},
   "outputs": [],
   "source": [
    "import pandas as pd\n",
    "from pytrends.request import TrendReq\n",
    "\n",
    "def load():\n",
    "    dataset = pd.read_csv('list.csv',header=None)\n",
    "    df=dataset.drop(columns=[1,2,3])\n",
    "    df=df.drop_duplicates()\n",
    "    df = df.reset_index(drop=True)\n",
    "    pytrends = TrendReq()\n",
    "    y=pd.DataFrame()\n",
    "    kw_list=[]\n",
    "    for i in range(0,len(df),5):\n",
    "        for j in range(i,i+5):\n",
    "            if(j>=len(df)):\n",
    "                break\n",
    "            x=df.iloc[j,0]\n",
    "            kw_list.append(x)\n",
    "        pytrends.build_payload(kw_list)\n",
    "        x1=pytrends.interest_over_time()\n",
    "        y = pd.concat([y,x1], axis=1)\n",
    "        kw_list=[]\n",
    "    y=y.drop(columns=['isPartial'])\n",
    "\n",
    "def analyze():\n",
    "    dataset = pd.read_csv('brands_count.csv')\n",
    "    dataset.drop(columns=['Unnamed: 664'])\n",
    "    len(dataset.columns)\n",
    "    i=1\n",
    "    df = pd.DataFrame(columns=['date','brands'])\n",
    "    while i!=len(dataset.columns):\n",
    "        sd=dataset.std()[i-1]\n",
    "        avg=dataset.mean()[i-1]\n",
    "        for j in range(260):\n",
    "            if(dataset.iloc[j,i] > (avg+(sd*3))):\n",
    "                df = df.append({'date': dataset.iloc[j,0],'brands': dataset.columns[i]}, ignore_index=True)\n",
    "                print(dataset.columns[i])\n",
    "        i=i+1\n",
    "df.to_csv('insight.csv')"
   ]
  }
 ],
 "metadata": {
  "kernelspec": {
   "display_name": "Python 3",
   "language": "python",
   "name": "python3"
  },
  "language_info": {
   "codemirror_mode": {
    "name": "ipython",
    "version": 3
   },
   "file_extension": ".py",
   "mimetype": "text/x-python",
   "name": "python",
   "nbconvert_exporter": "python",
   "pygments_lexer": "ipython3",
   "version": "3.6.3"
  }
 },
 "nbformat": 4,
 "nbformat_minor": 2
}
